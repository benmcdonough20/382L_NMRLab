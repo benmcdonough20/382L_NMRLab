{
 "cells": [
  {
   "cell_type": "markdown",
   "metadata": {},
   "source": [
    "# Obtain detuning from FID"
   ]
  },
  {
   "cell_type": "code",
   "execution_count": 31,
   "metadata": {},
   "outputs": [],
   "source": [
    "from matplotlib import pyplot as plt\n",
    "import scipy as sc\n",
    "import pandas as pd\n",
    "import numpy as np\n",
    "from pathlib import Path\n",
    "from scipy.optimize import curve_fit\n",
    "\n",
    "#absolute path of repo root\n",
    "rel_path = Path(\"/home/ben/Documents/Repos/382L_NMRLab/data/ben_ruobin_nmr_feb02/\")"
   ]
  },
  {
   "cell_type": "code",
   "execution_count": 32,
   "metadata": {},
   "outputs": [],
   "source": [
    "def smooth(y, pts): #Rolling avg smoothing\n",
    "    box = np.ones(pts)/pts\n",
    "    yfilt=np.convolve(y,box,mode='same')\n",
    "    return yfilt"
   ]
  },
  {
   "cell_type": "code",
   "execution_count": 37,
   "metadata": {},
   "outputs": [],
   "source": [
    "FIDData = pd.read_csv(rel_path / \"single_take.csv\", header = None)\n",
    "chan1 = FIDData[1].values\n",
    "chan2 = FIDData[2].values\n",
    "tlist = FIDData[0].values\n",
    "\n",
    "chan1 = np.subtract(chan1, np.mean(chan1[2000:]))\n",
    "chan2 = np.subtract(chan2, np.mean(chan2[2000:]))\n",
    "\n",
    "\n",
    "trans_mag = np.sqrt(np.square(chan1) + np.square(chan2))"
   ]
  },
  {
   "cell_type": "code",
   "execution_count": 38,
   "metadata": {},
   "outputs": [],
   "source": [
    "peaks, _ = sc.signal.find_peaks(\n",
    "    np.square(trans_mag),\n",
    "   height = 1.8,\n",
    "    #prominence = .5,\n",
    ")"
   ]
  },
  {
   "cell_type": "code",
   "execution_count": 39,
   "metadata": {},
   "outputs": [
    {
     "data": {
      "text/plain": [
       "array([ 100,  600, 1100, 1600, 2100])"
      ]
     },
     "execution_count": 39,
     "metadata": {},
     "output_type": "execute_result"
    }
   ],
   "source": [
    "peaks"
   ]
  },
  {
   "cell_type": "code",
   "execution_count": 40,
   "metadata": {},
   "outputs": [
    {
     "data": {
      "image/png": "[encoded data removed]",
      "text/plain": [
       "<Figure size 432x288 with 1 Axes>"
      ]
     },
     "metadata": {
      "needs_background": "light"
     },
     "output_type": "display_data"
    }
   ],
   "source": [
    "plt.plot(tlist,trans_mag, color = \"tab:red\")\n",
    "for peak in peaks:\n",
    "    plt.axvline(tlist[peak])"
   ]
  },
  {
   "cell_type": "code",
   "execution_count": 22,
   "metadata": {},
   "outputs": [],
   "source": [
    "data_dir = rel_path"
   ]
  },
  {
   "cell_type": "code",
   "execution_count": 23,
   "metadata": {},
   "outputs": [],
   "source": [
    "data = [(tlist[peak],trans_mag[peak]) for peak in peaks]"
   ]
  },
  {
   "cell_type": "code",
   "execution_count": 24,
   "metadata": {},
   "outputs": [],
   "source": [
    "times, heights = zip(*sorted(data))"
   ]
  },
  {
   "cell_type": "code",
   "execution_count": 28,
   "metadata": {},
   "outputs": [],
   "source": [
    "def gaussian(t, A, sigma, mu):\n",
    "    return A * np.exp(-(t-mu)**2/(2*sigma**2))\n",
    "\n",
    "def cos(t, A, omega, c):\n",
    "    return A * np.cos(omega*(t-c))\n",
    "\n",
    "def exp(t, A, b):\n",
    "    return A*np.exp(-t*b)\n",
    "\n",
    "from scipy.optimize import curve_fit\n",
    "popt, pcov = curve_fit(exp, times, heights, p0=[7, .007])"
   ]
  },
  {
   "cell_type": "code",
   "execution_count": 26,
   "metadata": {},
   "outputs": [
    {
     "data": {
      "text/plain": [
       "Text(0, 0.5, 'echo amplitdue (V)')"
      ]
     },
     "execution_count": 26,
     "metadata": {},
     "output_type": "execute_result"
    },
    {
     "data": {
      "image/png": "[encoded data removed]",
      "text/plain": [
       "<Figure size 432x288 with 1 Axes>"
      ]
     },
     "metadata": {
      "needs_background": "light"
     },
     "output_type": "display_data"
    }
   ],
   "source": [
    "plt.plot(times, heights, marker = \"X\", linestyle = \"None\", color = \"tab:red\", label = \"data\")\n",
    "xlist = np.linspace(min(times), max(times), 100)\n",
    "plt.plot(xlist, [exp(x, *popt) for x in xlist], color = \"tab:green\", linestyle = \"-.\", label = r\"$e^{-\\tau/T_2}$\")\n",
    "plt.legend()\n",
    "plt.xlabel(r\"$\\tau$ (s)\")\n",
    "plt.ylabel(\"echo amplitdue (V)\")"
   ]
  },
  {
   "cell_type": "code",
   "execution_count": 30,
   "metadata": {},
   "outputs": [
    {
     "data": {
      "text/plain": [
       "0.5018559287525204"
      ]
     },
     "execution_count": 30,
     "metadata": {},
     "output_type": "execute_result"
    }
   ],
   "source": [
    "1/popt[1]"
   ]
  }
 ],
 "metadata": {
  "kernelspec": {
   "display_name": "qiskit_env",
   "language": "python",
   "name": "python3"
  },
  "language_info": {
   "codemirror_mode": {
    "name": "ipython",
    "version": 3
   },
   "file_extension": ".py",
   "mimetype": "text/x-python",
   "name": "python",
   "nbconvert_exporter": "python",
   "pygments_lexer": "ipython3",
   "version": "3.10.4"
  },
  "orig_nbformat": 4,
  "vscode": {
   "interpreter": {
    "hash": "d4803144e0ca2433cbbdbc82809c7bf0c6dd86d5d16291a48205e2d911513c87"
   }
  }
 },
 "nbformat": 4,
 "nbformat_minor": 2
}
