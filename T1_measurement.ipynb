{
 "cells": [
  {
   "cell_type": "markdown",
   "metadata": {},
   "source": [
    "# Obtain detuning from FID"
   ]
  },
  {
   "cell_type": "code",
   "execution_count": 2,
   "metadata": {},
   "outputs": [],
   "source": [
    "from matplotlib import pyplot as plt\n",
    "import scipy as sc\n",
    "import pandas as pd\n",
    "import numpy as np\n",
    "from pathlib import Path\n",
    "from scipy.optimize import curve_fit\n",
    "\n",
    "#absolute path of repo root\n",
    "rel_path = Path(\"/home/ben/Documents/Repos/382L_NMRLab/data/ben_ruobin_nmr_feb02/T1_CuSO4\")"
   ]
  },
  {
   "cell_type": "code",
   "execution_count": 3,
   "metadata": {},
   "outputs": [],
   "source": [
    "def smooth(y, pts): #Rolling avg smoothing\n",
    "    box = np.ones(pts)/pts\n",
    "    yfilt=np.convolve(y,box,mode='same')\n",
    "    return yfilt"
   ]
  },
  {
   "cell_type": "code",
   "execution_count": 4,
   "metadata": {},
   "outputs": [],
   "source": [
    "FIDData = pd.read_csv(rel_path / \"1200.csv\", header = None)\n",
    "chan1 = FIDData[1].values\n",
    "chan2 = FIDData[2].values\n",
    "tlist = FIDData[0].values\n",
    "\n",
    "chan1 = np.subtract(chan1, np.mean(chan1[2000:]))\n",
    "chan2 = np.subtract(chan2, np.mean(chan2[2000:]))\n",
    "\n",
    "chan1_smooth = smooth(chan1, 35)\n",
    "chan2_smooth = smooth(chan2, 35)\n",
    "\n",
    "trans_mag = np.sqrt(np.square(chan1_smooth) + np.square(chan2_smooth))"
   ]
  },
  {
   "cell_type": "code",
   "execution_count": 5,
   "metadata": {},
   "outputs": [],
   "source": [
    "peaks, _ = sc.signal.find_peaks(\n",
    "    np.square(trans_mag),\n",
    "   # height = .2,\n",
    "    distance = 250,\n",
    "    #prominence = .5,\n",
    "    width = 400\n",
    ")"
   ]
  },
  {
   "cell_type": "code",
   "execution_count": 6,
   "metadata": {},
   "outputs": [],
   "source": [
    "cut_times = {100:1250, 200:1000, 500:1200, 800:1150, 1000:1000, 1200:700, 1400:1200, 1600:1000, 1800:1000}"
   ]
  },
  {
   "cell_type": "code",
   "execution_count": 7,
   "metadata": {},
   "outputs": [],
   "source": [
    "trans_mag = trans_mag[1000:]"
   ]
  },
  {
   "cell_type": "code",
   "execution_count": 8,
   "metadata": {},
   "outputs": [
    {
     "data": {
      "text/plain": [
       "<matplotlib.lines.Line2D at 0x7fcf88116950>"
      ]
     },
     "execution_count": 8,
     "metadata": {},
     "output_type": "execute_result"
    },
    {
     "data": {
      "image/png": "[encoded data removed]",
      "text/plain": [
       "<Figure size 432x288 with 1 Axes>"
      ]
     },
     "metadata": {
      "needs_background": "light"
     },
     "output_type": "display_data"
    }
   ],
   "source": [
    "#plt.plot(tlist, chan1_smooth, color = \"tab:red\")\n",
    "plt.plot(trans_mag, color = \"tab:red\")\n",
    "plt.axvline(tlist[np.argmax(trans_mag)])\n",
    "#plt.plot(tlist, chan2_smooth, color = \"tab:blue\")"
   ]
  },
  {
   "cell_type": "code",
   "execution_count": 12,
   "metadata": {},
   "outputs": [],
   "source": [
    "def get_max(time):\n",
    "    FIDData = pd.read_csv(rel_path / f\"{time}.csv\", header = None)\n",
    "    chan1 = FIDData[1].values[cut_times[time]:]\n",
    "    chan2 = FIDData[2].values[cut_times[time]:]\n",
    "    tlist = FIDData[0].values[cut_times[time]:]\n",
    "\n",
    "    print(chan1)\n",
    "\n",
    "    chan1 = np.subtract(chan1, np.mean(chan1[1000:]))\n",
    "    chan2 = np.subtract(chan2, np.mean(chan2[1000:]))\n",
    "    \n",
    "    chan1_smooth = smooth(chan1, 35)\n",
    "    chan2_smooth = smooth(chan2, 35)\n",
    "    \n",
    "    trans_mag = np.sqrt(np.square(chan1_smooth) + np.square(chan2_smooth))\n",
    "\n",
    "    return np.max(trans_mag)"
   ]
  },
  {
   "cell_type": "code",
   "execution_count": 69,
   "metadata": {},
   "outputs": [
    {
     "name": "stdout",
     "output_type": "stream",
     "text": [
      "[-2.32 -2.24 -2.24 ... -2.04 -2.   -2.08]\n",
      "[-2.4  -2.24 -2.4  ... -2.16 -2.32 -2.24]\n",
      "[-2.88 -2.8  -2.8  ... -2.24 -2.24 -2.16]\n",
      "[-2.32 -2.24 -2.32 ... -2.08 -2.32 -2.16]\n",
      "[-2.4  -2.56 -2.48 ... -2.4  -2.56 -2.32]\n",
      "[-2.4  -2.32 -2.32 ... -2.16 -2.24 -2.24]\n",
      "[-2.4  -2.24 -2.48 ... -2.32 -2.4  -2.24]\n",
      "[-2.4  -2.32 -2.48 ... -2.4  -2.48 -2.48]\n"
     ]
    }
   ],
   "source": [
    "data = [(time*10e-4, get_max(time)) for time in [100,200,500,1000,1200,1400,1600,1800]]"
   ]
  },
  {
   "cell_type": "code",
   "execution_count": 70,
   "metadata": {},
   "outputs": [],
   "source": [
    "\n",
    "times, heights = zip(*sorted(data))"
   ]
  },
  {
   "cell_type": "code",
   "execution_count": 71,
   "metadata": {},
   "outputs": [],
   "source": [
    "def exp(t, M, b):\n",
    "    return M*(1-2*np.exp(-t/b))"
   ]
  },
  {
   "cell_type": "code",
   "execution_count": 95,
   "metadata": {},
   "outputs": [],
   "source": [
    "popt, pcov = curve_fit(exp, times, heights, p0=[5, .1])"
   ]
  },
  {
   "cell_type": "code",
   "execution_count": 96,
   "metadata": {},
   "outputs": [
    {
     "data": {
      "text/plain": [
       "Text(0, 0.5, 'echo amplitdue (V)')"
      ]
     },
     "execution_count": 96,
     "metadata": {},
     "output_type": "execute_result"
    },
    {
     "data": {
      "image/png": "[encoded data removed]",
      "text/plain": [
       "<Figure size 432x288 with 1 Axes>"
      ]
     },
     "metadata": {
      "needs_background": "light"
     },
     "output_type": "display_data"
    }
   ],
   "source": [
    "plt.plot(times, heights, marker = \"X\", linestyle = \"None\", color = \"tab:red\", label = \"data\")\n",
    "xlist = np.linspace(min(times), max(times), 100)\n",
    "plt.plot(xlist, [exp(x, *popt) for x in xlist], color = \"tab:green\", linestyle = \"-.\", label = r\"$A(1-e^{-\\tau/T_2})$\")\n",
    "plt.legend()\n",
    "plt.xlabel(r\"$\\tau$ (s)\")\n",
    "plt.ylabel(\"echo amplitdue (V)\")"
   ]
  },
  {
   "cell_type": "code",
   "execution_count": 91,
   "metadata": {},
   "outputs": [
    {
     "data": {
      "text/plain": [
       "0.05298456649368894"
      ]
     },
     "execution_count": 91,
     "metadata": {},
     "output_type": "execute_result"
    }
   ],
   "source": [
    "popt[1]"
   ]
  }
 ],
 "metadata": {
  "kernelspec": {
   "display_name": "qiskit_env",
   "language": "python",
   "name": "python3"
  },
  "language_info": {
   "codemirror_mode": {
    "name": "ipython",
    "version": 3
   },
   "file_extension": ".py",
   "mimetype": "text/x-python",
   "name": "python",
   "nbconvert_exporter": "python",
   "pygments_lexer": "ipython3",
   "version": "3.10.4"
  },
  "orig_nbformat": 4,
  "vscode": {
   "interpreter": {
    "hash": "d4803144e0ca2433cbbdbc82809c7bf0c6dd86d5d16291a48205e2d911513c87"
   }
  }
 },
 "nbformat": 4,
 "nbformat_minor": 2
}
